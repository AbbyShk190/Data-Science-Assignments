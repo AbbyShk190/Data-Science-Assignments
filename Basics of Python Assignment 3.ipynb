{
 "cells": [
  {
   "cell_type": "code",
   "execution_count": 1,
   "id": "a411a204-bac4-4d39-a66b-848b395f3303",
   "metadata": {},
   "outputs": [
    {
     "name": "stdin",
     "output_type": "stream",
     "text": [
      "Enter a number:  7\n"
     ]
    },
    {
     "name": "stdout",
     "output_type": "stream",
     "text": [
      "7 is a prime number.\n"
     ]
    }
   ],
   "source": [
    "# Exercise 1: Prime Numbers\n",
    "\n",
    "\n",
    "def is_prime(number):\n",
    "    if number <= 1:\n",
    "        return False\n",
    "    for i in range(2, int(number**0.5) + 1):\n",
    "        if number % i == 0:\n",
    "            return False\n",
    "    return True\n",
    "\n",
    "# Input from the user\n",
    "num = int(input(\"Enter a number: \"))\n",
    "\n",
    "if is_prime(num):\n",
    "    print(f\"{num} is a prime number.\")\n",
    "else:\n",
    "    print(f\"{num} is not a prime number.\")\n"
   ]
  },
  {
   "cell_type": "code",
   "execution_count": 3,
   "id": "ad777428-0d1c-431b-b080-40911c6b3ea5",
   "metadata": {},
   "outputs": [
    {
     "name": "stdout",
     "output_type": "stream",
     "text": [
      "What is 10 x 5?\n"
     ]
    },
    {
     "name": "stdin",
     "output_type": "stream",
     "text": [
      "Enter your answer:  50\n"
     ]
    },
    {
     "name": "stdout",
     "output_type": "stream",
     "text": [
      "Correct! Great job!\n"
     ]
    }
   ],
   "source": [
    "# Exercise 2: Product of Random Numbers\n",
    "\n",
    "import random\n",
    "\n",
    "def multiplication_quiz():\n",
    "    # Generate two random numbers\n",
    "    num1 = random.randint(1, 10)\n",
    "    num2 = random.randint(1, 10)\n",
    "\n",
    "    # Calculate the correct product\n",
    "    correct_answer = num1 * num2\n",
    "\n",
    "    # Ask the user to input the product\n",
    "    print(f\"What is {num1} x {num2}?\")\n",
    "    user_answer = int(input(\"Enter your answer: \"))\n",
    "\n",
    "    # Check if the user's answer is correct\n",
    "    if user_answer == correct_answer:\n",
    "        print(\"Correct! Great job!\")\n",
    "    else:\n",
    "        print(f\"Incorrect. The correct answer is {correct_answer}.\")\n",
    "\n",
    "# Run the multiplication quiz\n",
    "multiplication_quiz()\n"
   ]
  },
  {
   "cell_type": "code",
   "execution_count": 5,
   "id": "83165b7b-f968-4e1d-bb24-65959033be94",
   "metadata": {},
   "outputs": [
    {
     "name": "stdin",
     "output_type": "stream",
     "text": [
      "Do you want to print squares of 'even' or 'odd' numbers?  odd\n"
     ]
    },
    {
     "name": "stdout",
     "output_type": "stream",
     "text": [
      "\n",
      "The squares of all odd numbers between 100 and 200 are:\n",
      "101^2 = 10201\n",
      "103^2 = 10609\n",
      "105^2 = 11025\n",
      "107^2 = 11449\n",
      "109^2 = 11881\n",
      "111^2 = 12321\n",
      "113^2 = 12769\n",
      "115^2 = 13225\n",
      "117^2 = 13689\n",
      "119^2 = 14161\n",
      "121^2 = 14641\n",
      "123^2 = 15129\n",
      "125^2 = 15625\n",
      "127^2 = 16129\n",
      "129^2 = 16641\n",
      "131^2 = 17161\n",
      "133^2 = 17689\n",
      "135^2 = 18225\n",
      "137^2 = 18769\n",
      "139^2 = 19321\n",
      "141^2 = 19881\n",
      "143^2 = 20449\n",
      "145^2 = 21025\n",
      "147^2 = 21609\n",
      "149^2 = 22201\n",
      "151^2 = 22801\n",
      "153^2 = 23409\n",
      "155^2 = 24025\n",
      "157^2 = 24649\n",
      "159^2 = 25281\n",
      "161^2 = 25921\n",
      "163^2 = 26569\n",
      "165^2 = 27225\n",
      "167^2 = 27889\n",
      "169^2 = 28561\n",
      "171^2 = 29241\n",
      "173^2 = 29929\n",
      "175^2 = 30625\n",
      "177^2 = 31329\n",
      "179^2 = 32041\n",
      "181^2 = 32761\n",
      "183^2 = 33489\n",
      "185^2 = 34225\n",
      "187^2 = 34969\n",
      "189^2 = 35721\n",
      "191^2 = 36481\n",
      "193^2 = 37249\n",
      "195^2 = 38025\n",
      "197^2 = 38809\n",
      "199^2 = 39601\n"
     ]
    }
   ],
   "source": [
    "# Exercise 3: Squares of Even/Odd Numbers\n",
    "\n",
    "def print_squares():\n",
    "    \"\"\"\n",
    "    This script prints the squares of either all even or odd numbers\n",
    "    in the range of 100 to 200 based on the user's choice.\n",
    "    \"\"\"\n",
    "    # Ask the user for their choice\n",
    "    choice = input(\"Do you want to print squares of 'even' or 'odd' numbers? \").strip().lower()\n",
    "    \n",
    "    if choice not in ['even', 'odd']:\n",
    "        print(\"Invalid choice. Please enter 'even' or 'odd'.\")\n",
    "        return\n",
    "    \n",
    "    print(f\"\\nThe squares of all {choice} numbers between 100 and 200 are:\")\n",
    "    for number in range(100, 201):\n",
    "        if choice == 'even' and number % 2 == 0:\n",
    "            print(f\"{number}^2 = {number ** 2}\")\n",
    "        elif choice == 'odd' and number % 2 != 0:\n",
    "            print(f\"{number}^2 = {number ** 2}\")\n",
    "\n",
    "# Call the function\n",
    "print_squares()\n",
    "\n"
   ]
  },
  {
   "cell_type": "code",
   "execution_count": 7,
   "id": "b88a44fe-daba-4f0b-ac9c-62eee2550af8",
   "metadata": {},
   "outputs": [
    {
     "name": "stdin",
     "output_type": "stream",
     "text": [
      "Enter a text:  This is a sample text\n"
     ]
    },
    {
     "name": "stdout",
     "output_type": "stream",
     "text": [
      "\n",
      "Word Frequency:\n",
      "'This': 1\n",
      "'is': 1\n",
      "'a': 1\n",
      "'sample': 1\n",
      "'text': 1\n"
     ]
    }
   ],
   "source": [
    "# Exercise 4: Word counter\n",
    "\n",
    "from collections import Counter\n",
    "\n",
    "def count_words():\n",
    "    # Take input from the user\n",
    "    input_text = input(\"Enter a text: \")\n",
    "    \n",
    "    # Split the text into words\n",
    "    words = input_text.split()\n",
    "    \n",
    "    # Use Counter to count the occurrences of each word\n",
    "    word_counts = Counter(words)\n",
    "    \n",
    "    # Print each word and its count\n",
    "    print(\"\\nWord Frequency:\")\n",
    "    for word, count in word_counts.items():\n",
    "        print(f\"'{word}': {count}\")\n",
    "\n",
    "# Call the function to count words\n",
    "count_words()\n"
   ]
  },
  {
   "cell_type": "code",
   "execution_count": 9,
   "id": "83e188a7-2515-43cc-a46c-3c17138ccb2f",
   "metadata": {},
   "outputs": [
    {
     "name": "stdin",
     "output_type": "stream",
     "text": [
      "Enter a string to check if it's a palindrome:  racecar\n"
     ]
    },
    {
     "name": "stdout",
     "output_type": "stream",
     "text": [
      "True: The string is a palindrome.\n"
     ]
    },
    {
     "data": {
      "text/plain": [
       "True"
      ]
     },
     "execution_count": 9,
     "metadata": {},
     "output_type": "execute_result"
    }
   ],
   "source": [
    "def is_palindrome():\n",
    "    \n",
    "    # Take input from the user\n",
    "    input_str = input(\"Enter a string to check if it's a palindrome: \")\n",
    "    \n",
    "    # Normalize the string: remove non-alphanumeric characters and convert to lowercase\n",
    "    cleaned_str = ''.join(char.lower() for char in input_str if char.isalnum())\n",
    "    \n",
    "    # Check if the cleaned string is the same forward and backward\n",
    "    is_palindrome = cleaned_str == cleaned_str[::-1]\n",
    "    \n",
    "    # Output the result\n",
    "    if is_palindrome:\n",
    "        print(\"True: The string is a palindrome.\")\n",
    "    else:\n",
    "        print(\"False: The string is not a palindrome.\")\n",
    "    \n",
    "    return is_palindrome\n",
    "\n",
    "# Call the function\n",
    "is_palindrome()\n"
   ]
  },
  {
   "cell_type": "code",
   "execution_count": null,
   "id": "84e122ae-ee01-497c-9b65-c4f90a975c55",
   "metadata": {},
   "outputs": [],
   "source": []
  }
 ],
 "metadata": {
  "kernelspec": {
   "display_name": "Python 3 (ipykernel)",
   "language": "python",
   "name": "python3"
  },
  "language_info": {
   "codemirror_mode": {
    "name": "ipython",
    "version": 3
   },
   "file_extension": ".py",
   "mimetype": "text/x-python",
   "name": "python",
   "nbconvert_exporter": "python",
   "pygments_lexer": "ipython3",
   "version": "3.12.7"
  }
 },
 "nbformat": 4,
 "nbformat_minor": 5
}
